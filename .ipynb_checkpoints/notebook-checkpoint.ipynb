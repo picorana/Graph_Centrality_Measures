{
 "cells": [
  {
   "cell_type": "markdown",
   "metadata": {},
   "source": [
    "# Eigenvector centrality on subreddits from Reddit\n",
    "\n",
    "Author: [picorana](https://picorana.github.io/)"
   ]
  },
  {
   "cell_type": "markdown",
   "metadata": {},
   "source": [
    "First of all, we import all the libraries that we are going to use."
   ]
  },
  {
   "cell_type": "code",
   "execution_count": 79,
   "metadata": {
    "scrolled": true
   },
   "outputs": [
    {
     "data": {
      "text/html": [
       "<script>requirejs.config({paths: { 'plotly': ['https://cdn.plot.ly/plotly-latest.min']},});if(!window.Plotly) {{require(['plotly'],function(plotly) {window.Plotly=plotly;});}}</script>"
      ],
      "text/vnd.plotly.v1+html": [
       "<script>requirejs.config({paths: { 'plotly': ['https://cdn.plot.ly/plotly-latest.min']},});if(!window.Plotly) {{require(['plotly'],function(plotly) {window.Plotly=plotly;});}}</script>"
      ]
     },
     "metadata": {},
     "output_type": "display_data"
    }
   ],
   "source": [
    "from plotly.offline import download_plotlyjs, init_notebook_mode, plot, iplot\n",
    "from plotly.graph_objs import *\n",
    "import networkx as nx\n",
    "\n",
    "init_notebook_mode(connected=True)"
   ]
  },
  {
   "cell_type": "code",
   "execution_count": 80,
   "metadata": {
    "collapsed": true
   },
   "outputs": [],
   "source": [
    "G = nx.Graph()\n",
    "G.add_edge(1, 2)\n",
    "G.add_edge(2, 3)\n",
    "G.add_edge(3, 1)\n",
    "G.add_edge(1, 4)\n",
    "G.add_edge(4, 5)\n",
    "G.add_edge(5, 6)\n",
    "G.add_edge(5, 7)\n",
    "G.add_edge(5, 8)\n",
    "G.add_edge(5, 9)"
   ]
  },
  {
   "cell_type": "code",
   "execution_count": 81,
   "metadata": {},
   "outputs": [
    {
     "name": "stdout",
     "output_type": "stream",
     "text": [
      "[ 0.02488805  0.32980884]\n",
      "[ 0.          0.53997683]\n",
      "[ 0.41166648  0.9316525 ]\n",
      "[ 0.          0.53997683]\n",
      "[ 0.70299736  0.49369514]\n",
      "[ 0.59270616  0.        ]\n",
      "[ 0.89899094  0.17908082]\n",
      "[ 1.          0.54109356]\n",
      "[ 0.83137975  0.8622104 ]\n"
     ]
    }
   ],
   "source": [
    "pos = nx.spring_layout(G)\n",
    "\n",
    "for edge in G.edges():\n",
    "    print pos[edge[1]]"
   ]
  },
  {
   "cell_type": "code",
   "execution_count": 82,
   "metadata": {
    "collapsed": true
   },
   "outputs": [],
   "source": [
    "edge_trace = Scatter(\n",
    "    x=[],\n",
    "    y=[],\n",
    "    line=Line(width=0.5,color='#888'),\n",
    "    hoverinfo='none',\n",
    "    mode='lines')\n",
    "\n",
    "for edge in G.edges():\n",
    "    x0, y0 = pos[edge[0]]\n",
    "    x1, y1 = pos[edge[1]]\n",
    "    edge_trace['x'] += [x0, x1, None]\n",
    "    edge_trace['y'] += [y0, y1, None]\n",
    "\n",
    "node_trace = Scatter(\n",
    "    x=[],\n",
    "    y=[],\n",
    "    text=[],\n",
    "    mode='markers',\n",
    "    hoverinfo='text',\n",
    "    marker=Marker(\n",
    "        showscale=True,\n",
    "        colorscale='Portland',\n",
    "        reversescale=True,\n",
    "        color=[],\n",
    "        size=10,\n",
    "        colorbar=dict(\n",
    "            thickness=15,\n",
    "            title='Node Connections',\n",
    "            xanchor='left',\n",
    "            titleside='right'\n",
    "        ),\n",
    "        line=dict(width=2)))\n",
    "\n",
    "for node in G.nodes():\n",
    "    x, y = pos[node]\n",
    "    node_trace['x'].append(x)\n",
    "    node_trace['y'].append(y)"
   ]
  },
  {
   "cell_type": "code",
   "execution_count": 92,
   "metadata": {
    "scrolled": true
   },
   "outputs": [
    {
     "data": {
      "application/vnd.plotly.v1+json": {
       "data": [
        {
         "hoverinfo": "none",
         "line": {
          "color": "#888",
          "width": 0.5
         },
         "mode": "lines",
         "type": "scatter",
         "x": [
          0.08147179388101407,
          0.02488804971618714,
          null,
          0.08147179388101407,
          0,
          null,
          0.08147179388101407,
          0.4116664792205321,
          null,
          0.02488804971618714,
          0,
          null,
          0.4116664792205321,
          0.7029973610737563,
          null,
          0.7029973610737563,
          0.5927061610820694,
          null,
          0.7029973610737563,
          0.8989909429412408,
          null,
          0.7029973610737563,
          1,
          null,
          0.7029973610737563,
          0.8313797507020906,
          null
         ],
         "y": [
          0.7622228295248793,
          0.3298088437670203,
          null,
          0.7622228295248793,
          0.5399768294532125,
          null,
          0.7622228295248793,
          0.9316524952518637,
          null,
          0.3298088437670203,
          0.5399768294532125,
          null,
          0.9316524952518637,
          0.4936951407041171,
          null,
          0.4936951407041171,
          0,
          null,
          0.4936951407041171,
          0.1790808159202548,
          null,
          0.4936951407041171,
          0.5410935553744312,
          null,
          0.4936951407041171,
          0.8622103995313978,
          null
         ]
        },
        {
         "hoverinfo": "text",
         "marker": {
          "color": [
           3,
           3,
           2,
           2,
           2,
           5,
           1,
           1,
           1,
           1,
           3,
           2,
           2,
           2,
           5,
           1,
           1,
           1,
           1,
           3,
           2,
           2,
           2,
           5,
           1,
           1,
           1,
           1,
           3,
           2,
           2,
           2,
           5,
           1,
           1,
           1,
           1
          ],
          "colorbar": {
           "thickness": 15,
           "title": "Node Connections",
           "titleside": "right",
           "xanchor": "left"
          },
          "colorscale": "Portland",
          "line": {
           "width": 2
          },
          "reversescale": true,
          "showscale": true,
          "size": [
           8.147179388101407,
           2.488804971618714,
           0,
           41.166647922053215,
           70.29973610737564,
           100,
           83.13797507020905,
           59.270616108206944,
           89.89909429412408
          ]
         },
         "mode": "markers",
         "text": [
          "# AAA: 3node number: 0",
          "# AAA: 2node number: 1",
          "# AAA: 2node number: 2",
          "# AAA: 2node number: 3",
          "# AAA: 5node number: 4",
          "# AAA: 1node number: 5",
          "# AAA: 1node number: 6",
          "# AAA: 1node number: 7",
          "# AAA: 1node number: 8",
          "# AAA: 3node number: 0",
          "# AAA: 2node number: 1",
          "# AAA: 2node number: 2",
          "# AAA: 2node number: 3",
          "# AAA: 5node number: 4",
          "# AAA: 1node number: 5",
          "# AAA: 1node number: 6",
          "# AAA: 1node number: 7",
          "# AAA: 1node number: 8",
          "# AAA: 3node number: 0",
          "# AAA: 2node number: 1",
          "# AAA: 2node number: 2",
          "# AAA: 2node number: 3",
          "# AAA: 5node number: 4",
          "# AAA: 1node number: 5",
          "# AAA: 1node number: 6",
          "# AAA: 1node number: 7",
          "# AAA: 1node number: 8",
          "# AAA: 3node number: 0",
          "# AAA: 2node number: 1",
          "# AAA: 2node number: 2",
          "# AAA: 2node number: 3",
          "# AAA: 5node number: 4",
          "# AAA: 1node number: 5",
          "# AAA: 1node number: 6",
          "# AAA: 1node number: 7",
          "# AAA: 1node number: 8"
         ],
         "type": "scatter",
         "x": [
          0.08147179388101407,
          0.02488804971618714,
          0,
          0.4116664792205321,
          0.7029973610737563,
          1,
          0.8313797507020906,
          0.5927061610820694,
          0.8989909429412408
         ],
         "y": [
          0.7622228295248793,
          0.3298088437670203,
          0.5399768294532125,
          0.9316524952518637,
          0.4936951407041171,
          0.5410935553744312,
          0.8622103995313978,
          0,
          0.1790808159202548
         ]
        }
       ],
       "layout": {
        "annotations": [
         {
          "showarrow": false,
          "text": "Python code: <a href='https://plot.ly/ipython-notebooks/network-graphs/'> https://plot.ly/ipython-notebooks/network-graphs/</a>",
          "x": 0.005,
          "xref": "paper",
          "y": -0.002,
          "yref": "paper"
         }
        ],
        "hovermode": "closest",
        "margin": {
         "b": 20,
         "l": 5,
         "r": 5,
         "t": 40
        },
        "showlegend": false,
        "title": "<br>Network graph made with Python",
        "titlefont": {
         "size": 16
        },
        "xaxis": {
         "showgrid": false,
         "showticklabels": false,
         "zeroline": false
        },
        "yaxis": {
         "showgrid": false,
         "showticklabels": false,
         "zeroline": false
        }
       }
      },
      "text/html": [
       "<div id=\"8cb393a1-6c17-4aef-9ba9-286ae308eb81\" style=\"height: 525px; width: 100%;\" class=\"plotly-graph-div\"></div><script type=\"text/javascript\">require([\"plotly\"], function(Plotly) { window.PLOTLYENV=window.PLOTLYENV || {};window.PLOTLYENV.BASE_URL=\"https://plot.ly\";Plotly.newPlot(\"8cb393a1-6c17-4aef-9ba9-286ae308eb81\", [{\"mode\": \"lines\", \"hoverinfo\": \"none\", \"y\": [0.7622228295248793, 0.3298088437670203, null, 0.7622228295248793, 0.5399768294532125, null, 0.7622228295248793, 0.9316524952518637, null, 0.3298088437670203, 0.5399768294532125, null, 0.9316524952518637, 0.4936951407041171, null, 0.4936951407041171, 0.0, null, 0.4936951407041171, 0.1790808159202548, null, 0.4936951407041171, 0.5410935553744312, null, 0.4936951407041171, 0.8622103995313978, null], \"x\": [0.08147179388101407, 0.02488804971618714, null, 0.08147179388101407, 0.0, null, 0.08147179388101407, 0.4116664792205321, null, 0.02488804971618714, 0.0, null, 0.4116664792205321, 0.7029973610737563, null, 0.7029973610737563, 0.5927061610820694, null, 0.7029973610737563, 0.8989909429412408, null, 0.7029973610737563, 1.0, null, 0.7029973610737563, 0.8313797507020906, null], \"line\": {\"color\": \"#888\", \"width\": 0.5}, \"type\": \"scatter\"}, {\"text\": [\"# AAA: 3node number: 0\", \"# AAA: 2node number: 1\", \"# AAA: 2node number: 2\", \"# AAA: 2node number: 3\", \"# AAA: 5node number: 4\", \"# AAA: 1node number: 5\", \"# AAA: 1node number: 6\", \"# AAA: 1node number: 7\", \"# AAA: 1node number: 8\", \"# AAA: 3node number: 0\", \"# AAA: 2node number: 1\", \"# AAA: 2node number: 2\", \"# AAA: 2node number: 3\", \"# AAA: 5node number: 4\", \"# AAA: 1node number: 5\", \"# AAA: 1node number: 6\", \"# AAA: 1node number: 7\", \"# AAA: 1node number: 8\", \"# AAA: 3node number: 0\", \"# AAA: 2node number: 1\", \"# AAA: 2node number: 2\", \"# AAA: 2node number: 3\", \"# AAA: 5node number: 4\", \"# AAA: 1node number: 5\", \"# AAA: 1node number: 6\", \"# AAA: 1node number: 7\", \"# AAA: 1node number: 8\", \"# AAA: 3node number: 0\", \"# AAA: 2node number: 1\", \"# AAA: 2node number: 2\", \"# AAA: 2node number: 3\", \"# AAA: 5node number: 4\", \"# AAA: 1node number: 5\", \"# AAA: 1node number: 6\", \"# AAA: 1node number: 7\", \"# AAA: 1node number: 8\"], \"marker\": {\"reversescale\": true, \"colorscale\": \"Portland\", \"color\": [3, 3, 2, 2, 2, 5, 1, 1, 1, 1, 3, 2, 2, 2, 5, 1, 1, 1, 1, 3, 2, 2, 2, 5, 1, 1, 1, 1, 3, 2, 2, 2, 5, 1, 1, 1, 1], \"colorbar\": {\"thickness\": 15, \"xanchor\": \"left\", \"titleside\": \"right\", \"title\": \"Node Connections\"}, \"showscale\": true, \"line\": {\"width\": 2}, \"size\": [8.147179388101407, 2.488804971618714, 0.0, 41.166647922053215, 70.29973610737564, 100.0, 83.13797507020905, 59.270616108206944, 89.89909429412408]}, \"mode\": \"markers\", \"hoverinfo\": \"text\", \"y\": [0.7622228295248793, 0.3298088437670203, 0.5399768294532125, 0.9316524952518637, 0.4936951407041171, 0.5410935553744312, 0.8622103995313978, 0.0, 0.1790808159202548], \"x\": [0.08147179388101407, 0.02488804971618714, 0.0, 0.4116664792205321, 0.7029973610737563, 1.0, 0.8313797507020906, 0.5927061610820694, 0.8989909429412408], \"type\": \"scatter\"}], {\"showlegend\": false, \"yaxis\": {\"zeroline\": false, \"showticklabels\": false, \"showgrid\": false}, \"title\": \"<br>Network graph made with Python\", \"titlefont\": {\"size\": 16}, \"xaxis\": {\"zeroline\": false, \"showticklabels\": false, \"showgrid\": false}, \"hovermode\": \"closest\", \"margin\": {\"r\": 5, \"b\": 20, \"t\": 40, \"l\": 5}, \"annotations\": [{\"xref\": \"paper\", \"yref\": \"paper\", \"text\": \"Python code: <a href='https://plot.ly/ipython-notebooks/network-graphs/'> https://plot.ly/ipython-notebooks/network-graphs/</a>\", \"y\": -0.002, \"x\": 0.005, \"showarrow\": false}]}, {\"linkText\": \"Export to plot.ly\", \"showLink\": true})});</script>"
      ],
      "text/vnd.plotly.v1+html": [
       "<div id=\"8cb393a1-6c17-4aef-9ba9-286ae308eb81\" style=\"height: 525px; width: 100%;\" class=\"plotly-graph-div\"></div><script type=\"text/javascript\">require([\"plotly\"], function(Plotly) { window.PLOTLYENV=window.PLOTLYENV || {};window.PLOTLYENV.BASE_URL=\"https://plot.ly\";Plotly.newPlot(\"8cb393a1-6c17-4aef-9ba9-286ae308eb81\", [{\"mode\": \"lines\", \"hoverinfo\": \"none\", \"y\": [0.7622228295248793, 0.3298088437670203, null, 0.7622228295248793, 0.5399768294532125, null, 0.7622228295248793, 0.9316524952518637, null, 0.3298088437670203, 0.5399768294532125, null, 0.9316524952518637, 0.4936951407041171, null, 0.4936951407041171, 0.0, null, 0.4936951407041171, 0.1790808159202548, null, 0.4936951407041171, 0.5410935553744312, null, 0.4936951407041171, 0.8622103995313978, null], \"x\": [0.08147179388101407, 0.02488804971618714, null, 0.08147179388101407, 0.0, null, 0.08147179388101407, 0.4116664792205321, null, 0.02488804971618714, 0.0, null, 0.4116664792205321, 0.7029973610737563, null, 0.7029973610737563, 0.5927061610820694, null, 0.7029973610737563, 0.8989909429412408, null, 0.7029973610737563, 1.0, null, 0.7029973610737563, 0.8313797507020906, null], \"line\": {\"color\": \"#888\", \"width\": 0.5}, \"type\": \"scatter\"}, {\"text\": [\"# AAA: 3node number: 0\", \"# AAA: 2node number: 1\", \"# AAA: 2node number: 2\", \"# AAA: 2node number: 3\", \"# AAA: 5node number: 4\", \"# AAA: 1node number: 5\", \"# AAA: 1node number: 6\", \"# AAA: 1node number: 7\", \"# AAA: 1node number: 8\", \"# AAA: 3node number: 0\", \"# AAA: 2node number: 1\", \"# AAA: 2node number: 2\", \"# AAA: 2node number: 3\", \"# AAA: 5node number: 4\", \"# AAA: 1node number: 5\", \"# AAA: 1node number: 6\", \"# AAA: 1node number: 7\", \"# AAA: 1node number: 8\", \"# AAA: 3node number: 0\", \"# AAA: 2node number: 1\", \"# AAA: 2node number: 2\", \"# AAA: 2node number: 3\", \"# AAA: 5node number: 4\", \"# AAA: 1node number: 5\", \"# AAA: 1node number: 6\", \"# AAA: 1node number: 7\", \"# AAA: 1node number: 8\", \"# AAA: 3node number: 0\", \"# AAA: 2node number: 1\", \"# AAA: 2node number: 2\", \"# AAA: 2node number: 3\", \"# AAA: 5node number: 4\", \"# AAA: 1node number: 5\", \"# AAA: 1node number: 6\", \"# AAA: 1node number: 7\", \"# AAA: 1node number: 8\"], \"marker\": {\"reversescale\": true, \"colorscale\": \"Portland\", \"color\": [3, 3, 2, 2, 2, 5, 1, 1, 1, 1, 3, 2, 2, 2, 5, 1, 1, 1, 1, 3, 2, 2, 2, 5, 1, 1, 1, 1, 3, 2, 2, 2, 5, 1, 1, 1, 1], \"colorbar\": {\"thickness\": 15, \"xanchor\": \"left\", \"titleside\": \"right\", \"title\": \"Node Connections\"}, \"showscale\": true, \"line\": {\"width\": 2}, \"size\": [8.147179388101407, 2.488804971618714, 0.0, 41.166647922053215, 70.29973610737564, 100.0, 83.13797507020905, 59.270616108206944, 89.89909429412408]}, \"mode\": \"markers\", \"hoverinfo\": \"text\", \"y\": [0.7622228295248793, 0.3298088437670203, 0.5399768294532125, 0.9316524952518637, 0.4936951407041171, 0.5410935553744312, 0.8622103995313978, 0.0, 0.1790808159202548], \"x\": [0.08147179388101407, 0.02488804971618714, 0.0, 0.4116664792205321, 0.7029973610737563, 1.0, 0.8313797507020906, 0.5927061610820694, 0.8989909429412408], \"type\": \"scatter\"}], {\"showlegend\": false, \"yaxis\": {\"zeroline\": false, \"showticklabels\": false, \"showgrid\": false}, \"title\": \"<br>Network graph made with Python\", \"titlefont\": {\"size\": 16}, \"xaxis\": {\"zeroline\": false, \"showticklabels\": false, \"showgrid\": false}, \"hovermode\": \"closest\", \"margin\": {\"r\": 5, \"b\": 20, \"t\": 40, \"l\": 5}, \"annotations\": [{\"xref\": \"paper\", \"yref\": \"paper\", \"text\": \"Python code: <a href='https://plot.ly/ipython-notebooks/network-graphs/'> https://plot.ly/ipython-notebooks/network-graphs/</a>\", \"y\": -0.002, \"x\": 0.005, \"showarrow\": false}]}, {\"linkText\": \"Export to plot.ly\", \"showLink\": true})});</script>"
      ]
     },
     "metadata": {},
     "output_type": "display_data"
    }
   ],
   "source": [
    "node_trace['marker']['size'] = []\n",
    "for node in G.nodes():\n",
    "    node_trace['marker']['size'].append(pos[node][0]*100)\n",
    "  \n",
    "for node, adjacencies in enumerate(G.adjacency_list()):\n",
    "    node_trace['marker']['color'].append(len(adjacencies))\n",
    "    node_info = '# AAA: '+str(len(adjacencies)) + 'node number: ' + str(node)\n",
    "    node_trace['text'].append(node_info)\n",
    "\n",
    "fig = Figure(data=Data([edge_trace, node_trace]),\n",
    "             layout=Layout(\n",
    "                title='<br>Network graph made with Python',\n",
    "                titlefont=dict(size=16),\n",
    "                showlegend=False,\n",
    "                hovermode='closest',\n",
    "                margin=dict(b=20,l=5,r=5,t=40),\n",
    "                annotations=[ dict(\n",
    "                    text=\"Python code: <a href='https://plot.ly/ipython-notebooks/network-graphs/'> https://plot.ly/ipython-notebooks/network-graphs/</a>\",\n",
    "                    showarrow=False,\n",
    "                    xref=\"paper\", yref=\"paper\",\n",
    "                    x=0.005, y=-0.002 ) ],\n",
    "                xaxis=XAxis(showgrid=False, zeroline=False, showticklabels=False),\n",
    "                yaxis=YAxis(showgrid=False, zeroline=False, showticklabels=False)))\n",
    "\n",
    "iplot(fig, filename='networkx')"
   ]
  },
  {
   "cell_type": "code",
   "execution_count": null,
   "metadata": {
    "collapsed": true
   },
   "outputs": [],
   "source": []
  },
  {
   "cell_type": "code",
   "execution_count": null,
   "metadata": {
    "collapsed": true
   },
   "outputs": [],
   "source": []
  }
 ],
 "metadata": {
  "kernelspec": {
   "display_name": "Python 2",
   "language": "python",
   "name": "python2"
  },
  "language_info": {
   "codemirror_mode": {
    "name": "ipython",
    "version": 2
   },
   "file_extension": ".py",
   "mimetype": "text/x-python",
   "name": "python",
   "nbconvert_exporter": "python",
   "pygments_lexer": "ipython2",
   "version": "2.7.12"
  }
 },
 "nbformat": 4,
 "nbformat_minor": 2
}
