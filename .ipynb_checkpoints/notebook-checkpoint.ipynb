{
 "cells": [
  {
   "cell_type": "markdown",
   "metadata": {},
   "source": [
    "# Eigenvector centrality on subreddits from Reddit\n",
    "\n",
    "Author: [picorana](https://picorana.github.io/)"
   ]
  },
  {
   "cell_type": "markdown",
   "metadata": {},
   "source": [
    "First of all, we import all the libraries that we are going to use."
   ]
  },
  {
   "cell_type": "code",
   "execution_count": 1,
   "metadata": {
    "scrolled": true
   },
   "outputs": [
    {
     "data": {
      "text/html": [
       "<script>requirejs.config({paths: { 'plotly': ['https://cdn.plot.ly/plotly-latest.min']},});if(!window.Plotly) {{require(['plotly'],function(plotly) {window.Plotly=plotly;});}}</script>"
      ],
      "text/vnd.plotly.v1+html": [
       "<script>requirejs.config({paths: { 'plotly': ['https://cdn.plot.ly/plotly-latest.min']},});if(!window.Plotly) {{require(['plotly'],function(plotly) {window.Plotly=plotly;});}}</script>"
      ]
     },
     "metadata": {},
     "output_type": "display_data"
    }
   ],
   "source": [
    "from plotly.offline import download_plotlyjs, init_notebook_mode, plot, iplot\n",
    "from plotly.graph_objs import *\n",
    "\n",
    "import networkx as nx\n",
    "\n",
    "init_notebook_mode(connected=True)"
   ]
  },
  {
   "cell_type": "markdown",
   "metadata": {},
   "source": [
    "As part of the init setup, we define a set of functions that will help us drawing the graphs we are going to use to show the results:"
   ]
  },
  {
   "cell_type": "code",
   "execution_count": 2,
   "metadata": {
    "collapsed": true
   },
   "outputs": [],
   "source": [
    "def loadLayout():\n",
    "    l = Layout(\n",
    "        title='<br>Network graph made with Python',\n",
    "        titlefont=dict(size=16),\n",
    "        showlegend=False,\n",
    "        hovermode='closest',\n",
    "        margin=dict(b=20,l=5,r=5,t=40),\n",
    "        annotations=[ dict(\n",
    "            text=\"Python code: <a href='https://plot.ly/ipython-notebooks/network-graphs/'> https://plot.ly/ipython-notebooks/network-graphs/</a>\",\n",
    "            showarrow=False,\n",
    "            xref=\"paper\", yref=\"paper\",\n",
    "            x=0.005, y=-0.002 ) ],\n",
    "        xaxis=XAxis(showgrid=False, zeroline=False, showticklabels=False),\n",
    "        yaxis=YAxis(showgrid=False, zeroline=False, showticklabels=False))\n",
    "    \n",
    "    return l\n",
    "\n",
    "edge_trace = Scatter(\n",
    "    x=[],\n",
    "    y=[],\n",
    "    line=Line(width=0.5,color='#888'),\n",
    "    hoverinfo='none',\n",
    "    mode='lines')\n",
    "\n",
    "node_trace = Scatter(\n",
    "    x=[],\n",
    "    y=[],\n",
    "    text=[],\n",
    "    mode='markers',\n",
    "    hoverinfo='text',\n",
    "    marker=Marker(\n",
    "        showscale=True,\n",
    "        colorscale='Portland',\n",
    "        reversescale=True,\n",
    "        color=[],\n",
    "        size=10,\n",
    "        colorbar=dict(\n",
    "            thickness=15,\n",
    "            title='Node Connections',\n",
    "            xanchor='left',\n",
    "            titleside='right'\n",
    "        ),\n",
    "        line=dict(width=2)))\n",
    "\n",
    "\n",
    "def drawSpringLayoutGraph(test_G):\n",
    "    \n",
    "    pos = nx.spring_layout(test_G)\n",
    "    \n",
    "    for edge in test_G.edges():\n",
    "        x0, y0 = pos[edge[0]]\n",
    "        x1, y1 = pos[edge[1]]\n",
    "        edge_trace['x'] += [x0, x1, None]\n",
    "        edge_trace['y'] += [y0, y1, None]\n",
    "\n",
    "    for node in test_G.nodes():\n",
    "        x, y = pos[node]\n",
    "        node_trace['x'].append(x)\n",
    "        node_trace['y'].append(y)\n",
    "        \n",
    "    node_trace['marker']['size'] = []\n",
    "    \n",
    "    for node in test_G.nodes():\n",
    "        node_trace['marker']['size'].append(20)\n",
    "\n",
    "    for node, adjacencies in enumerate(test_G.adjacency_list()):\n",
    "        node_trace['marker']['color'].append(len(adjacencies))\n",
    "        node_info = '# AAA: '+str(len(adjacencies)) + '\\n node number: ' + str(node)\n",
    "        node_trace['text'].append(node_info)\n",
    "\n",
    "    fig = Figure(data = Data([edge_trace, node_trace]), layout = loadLayout())\n",
    "\n",
    "    iplot(fig)"
   ]
  },
  {
   "cell_type": "markdown",
   "metadata": {},
   "source": [
    "Let us play with a toy graph in the beginning, here we define it:"
   ]
  },
  {
   "cell_type": "code",
   "execution_count": 3,
   "metadata": {
    "collapsed": true
   },
   "outputs": [],
   "source": [
    "test_G = nx.Graph()\n",
    "test_G.add_edge(0, 1)\n",
    "test_G.add_edge(1, 2)\n",
    "test_G.add_edge(2, 3)\n",
    "test_G.add_edge(3, 1)\n",
    "test_G.add_edge(1, 4)\n",
    "test_G.add_edge(4, 5)\n",
    "test_G.add_edge(5, 6)\n",
    "test_G.add_edge(5, 7)\n",
    "test_G.add_edge(5, 8)\n",
    "test_G.add_edge(5, 9)"
   ]
  },
  {
   "cell_type": "markdown",
   "metadata": {},
   "source": [
    "And here we draw it:"
   ]
  },
  {
   "cell_type": "code",
   "execution_count": 4,
   "metadata": {
    "collapsed": true
   },
   "outputs": [],
   "source": [
    "#drawSpringLayoutGraph(test_G)"
   ]
  },
  {
   "cell_type": "markdown",
   "metadata": {},
   "source": [
    "# Reddit test\n",
    "\n",
    "Now, let's load our actual data."
   ]
  },
  {
   "cell_type": "code",
   "execution_count": 12,
   "metadata": {},
   "outputs": [],
   "source": [
    "G = nx.read_edgelist(open('data/edgelist_weighted_clean.txt', 'rb'))"
   ]
  },
  {
   "cell_type": "code",
   "execution_count": 13,
   "metadata": {
    "collapsed": true
   },
   "outputs": [],
   "source": [
    "eigenvector_centrality = nx.eigenvector_centrality(G)"
   ]
  },
  {
   "cell_type": "code",
   "execution_count": 14,
   "metadata": {
    "collapsed": true
   },
   "outputs": [],
   "source": [
    "def trim_graph_edges_for_visualization(G):\n",
    "\tfor node in G.nodes():\n",
    "\t\tfor edge in G.edges(node):\n",
    "\t\t\tif G[edge[0]][edge[1]]['weight'] < 0.045:\n",
    "\t\t\t\tG.remove_edge(edge[0], edge[1])\n",
    "\n",
    "\tsolitary= [n for n,d in G.degree_iter() if d==0]\n",
    " \tG.remove_nodes_from(solitary)\n",
    "\treturn G\n",
    "\n",
    "def drawSpringLayoutGraphFromDict(G, node_sizes):\n",
    "    \n",
    "    pos = nx.spring_layout(G)\n",
    "    \n",
    "    for edge in G.edges():\n",
    "        x0, y0 = pos[edge[0]]\n",
    "        x1, y1 = pos[edge[1]]\n",
    "        edge_trace['x'] += [x0, x1, None]\n",
    "        edge_trace['y'] += [y0, y1, None]\n",
    "\n",
    "    for node in G.nodes():\n",
    "        x, y = pos[node]\n",
    "        node_trace['x'].append(x)\n",
    "        node_trace['y'].append(y)\n",
    "        \n",
    "    node_trace['marker']['size'] = []\n",
    "    \n",
    "    for node in G.nodes():\n",
    "        node_trace['marker']['size'].append(node_sizes[node]*500)\n",
    "        node_info = 'name: ' + str(node)\n",
    "        node_trace['text'].append(node_info)\n",
    "\n",
    "    for node, adjacencies in enumerate(G.adjacency_list()):\n",
    "        node_trace['marker']['color'].append(len(adjacencies))\n",
    "        \n",
    "\n",
    "    fig = Figure(data = Data([edge_trace, node_trace]), layout = loadLayout())\n",
    "\n",
    "    iplot(fig)"
   ]
  },
  {
   "cell_type": "code",
   "execution_count": 15,
   "metadata": {},
   "outputs": [
    {
     "name": "stdout",
     "output_type": "stream",
     "text": [
      "6909\n",
      "518493\n"
     ]
    }
   ],
   "source": [
    "print G.number_of_nodes()\n",
    "print G.number_of_edges()"
   ]
  },
  {
   "cell_type": "code",
   "execution_count": 16,
   "metadata": {
    "collapsed": true
   },
   "outputs": [],
   "source": [
    "G2 = trim_graph_edges_for_visualization(G)"
   ]
  },
  {
   "cell_type": "code",
   "execution_count": 17,
   "metadata": {},
   "outputs": [
    {
     "name": "stdout",
     "output_type": "stream",
     "text": [
      "2326\n",
      "8573\n"
     ]
    }
   ],
   "source": [
    "print G2.number_of_nodes()\n",
    "print G2.number_of_edges()"
   ]
  },
  {
   "cell_type": "code",
   "execution_count": 18,
   "metadata": {},
   "outputs": [
    {
     "name": "stderr",
     "output_type": "stream",
     "text": [
      "IOPub data rate exceeded.\n",
      "The notebook server will temporarily stop sending output\n",
      "to the client in order to avoid crashing it.\n",
      "To change this limit, set the config variable\n",
      "`--NotebookApp.iopub_data_rate_limit`.\n"
     ]
    }
   ],
   "source": [
    "drawSpringLayoutGraphFromDict(G2, eigenvector_centrality)"
   ]
  },
  {
   "cell_type": "code",
   "execution_count": null,
   "metadata": {
    "collapsed": true
   },
   "outputs": [],
   "source": []
  },
  {
   "cell_type": "code",
   "execution_count": null,
   "metadata": {
    "collapsed": true
   },
   "outputs": [],
   "source": []
  }
 ],
 "metadata": {
  "kernelspec": {
   "display_name": "Python 2",
   "language": "python",
   "name": "python2"
  },
  "language_info": {
   "codemirror_mode": {
    "name": "ipython",
    "version": 2
   },
   "file_extension": ".py",
   "mimetype": "text/x-python",
   "name": "python",
   "nbconvert_exporter": "python",
   "pygments_lexer": "ipython2",
   "version": "2.7.12"
  }
 },
 "nbformat": 4,
 "nbformat_minor": 2
}
